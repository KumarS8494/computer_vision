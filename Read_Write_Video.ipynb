{
 "cells": [
  {
   "cell_type": "code",
   "execution_count": 1,
   "id": "43fc02db",
   "metadata": {},
   "outputs": [],
   "source": [
    "import cv2 as cv"
   ]
  },
  {
   "cell_type": "code",
   "execution_count": 2,
   "id": "112be62c",
   "metadata": {},
   "outputs": [],
   "source": [
    "CapV = cv.VideoCapture(0)"
   ]
  },
  {
   "cell_type": "code",
   "execution_count": 3,
   "id": "0d2a9a8c",
   "metadata": {},
   "outputs": [],
   "source": [
    "fourcc = cv.VideoWriter_fourcc(*'XVID')\n"
   ]
  },
  {
   "cell_type": "code",
   "execution_count": 4,
   "id": "4b7d1e01",
   "metadata": {},
   "outputs": [],
   "source": [
    "out = cv.VideoWriter('output.avi', fourcc, 20.0, (640,480))"
   ]
  },
  {
   "cell_type": "code",
   "execution_count": 5,
   "id": "ffc1ede3",
   "metadata": {},
   "outputs": [],
   "source": [
    "while(CapV.isOpened()):\n",
    "    ret, frame = CapV.read()\n",
    "    if ret == True:\n",
    "#         out.write(frame)\n",
    "        gray = cv.cvtColor(frame, cv.COLOR_BGR2GRAY)\n",
    "        cv.imshow('frame', gray)\n",
    "        \n",
    "        if cv.waitKey(0) & 0xFF == ord('q'):\n",
    "            break\n",
    "            \n",
    "        else:\n",
    "            break"
   ]
  },
  {
   "cell_type": "code",
   "execution_count": 6,
   "id": "778869cc",
   "metadata": {},
   "outputs": [],
   "source": [
    "CapV.release()"
   ]
  },
  {
   "cell_type": "code",
   "execution_count": 7,
   "id": "08fa67ee",
   "metadata": {},
   "outputs": [],
   "source": [
    "out.release()"
   ]
  },
  {
   "cell_type": "code",
   "execution_count": 8,
   "id": "fe6649b1",
   "metadata": {},
   "outputs": [],
   "source": [
    "cv.destroyAllWindows()"
   ]
  },
  {
   "cell_type": "code",
   "execution_count": null,
   "id": "b29864c3",
   "metadata": {},
   "outputs": [],
   "source": []
  },
  {
   "cell_type": "code",
   "execution_count": null,
   "id": "bf50bd8c",
   "metadata": {},
   "outputs": [],
   "source": []
  }
 ],
 "metadata": {
  "kernelspec": {
   "display_name": "Python 3 (ipykernel)",
   "language": "python",
   "name": "python3"
  },
  "language_info": {
   "codemirror_mode": {
    "name": "ipython",
    "version": 3
   },
   "file_extension": ".py",
   "mimetype": "text/x-python",
   "name": "python",
   "nbconvert_exporter": "python",
   "pygments_lexer": "ipython3",
   "version": "3.10.5"
  }
 },
 "nbformat": 4,
 "nbformat_minor": 5
}
