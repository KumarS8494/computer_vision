{
 "cells": [
  {
   "cell_type": "code",
   "execution_count": 1,
   "id": "43fc02db",
   "metadata": {},
   "outputs": [],
   "source": [
    "import cv2 as cv"
   ]
  },
  {
   "cell_type": "code",
   "execution_count": 2,
   "id": "112be62c",
   "metadata": {},
   "outputs": [],
   "source": [
    "CapV = cv.VideoCapture(0)"
   ]
  },
  {
   "cell_type": "code",
   "execution_count": 3,
   "id": "59c65e51",
   "metadata": {},
   "outputs": [],
   "source": [
    "# while(CapV.isOpened()):\n",
    "#     ret, frame = CapV.read()\n",
    "#     cv.imshow('Image', frame)\n",
    "#     if cv.waitKey(1) & 0xFF == ord('q'):\n",
    "#         break"
   ]
  },
  {
   "cell_type": "code",
   "execution_count": 4,
   "id": "8a789998",
   "metadata": {},
   "outputs": [],
   "source": [
    "CapV.release()"
   ]
  },
  {
   "cell_type": "code",
   "execution_count": 5,
   "id": "2c067b12",
   "metadata": {},
   "outputs": [],
   "source": [
    "cv.destroyAllWindows()"
   ]
  },
  {
   "cell_type": "code",
   "execution_count": 7,
   "id": "cb653902",
   "metadata": {},
   "outputs": [],
   "source": [
    "fourcc = cv.VideoWriter_fourcc('X','V','I','D')"
   ]
  },
  {
   "cell_type": "code",
   "execution_count": 10,
   "id": "0b0bc963",
   "metadata": {},
   "outputs": [],
   "source": [
    "out = cv.VideoWriter('output.mp4', fourcc, 20.0, (640,480))"
   ]
  },
  {
   "cell_type": "code",
   "execution_count": 11,
   "id": "33523304",
   "metadata": {},
   "outputs": [],
   "source": [
    "while(CapV.isOpened()):\n",
    "    ret, frame = CapV.read()\n",
    "    if ret == True:\n",
    "        out.write(frame)\n",
    "        gray = cv.cvtColor(frame, cv.COLOR_BGR2GRAY)\n",
    "        cv.imshow('frame', gray)\n",
    "        \n",
    "        if cv.waitKey(1) & 0xFF == ord('q'):\n",
    "            break\n",
    "            \n",
    "        else:\n",
    "            break"
   ]
  },
  {
   "cell_type": "code",
   "execution_count": 3,
   "id": "778869cc",
   "metadata": {},
   "outputs": [],
   "source": [
    "CapV.release()"
   ]
  },
  {
   "cell_type": "code",
   "execution_count": null,
   "id": "9b8e04a5",
   "metadata": {},
   "outputs": [],
   "source": []
  },
  {
   "cell_type": "code",
   "execution_count": null,
   "id": "e3ebda9b",
   "metadata": {},
   "outputs": [],
   "source": []
  }
 ],
 "metadata": {
  "kernelspec": {
   "display_name": "Python 3 (ipykernel)",
   "language": "python",
   "name": "python3"
  },
  "language_info": {
   "codemirror_mode": {
    "name": "ipython",
    "version": 3
   },
   "file_extension": ".py",
   "mimetype": "text/x-python",
   "name": "python",
   "nbconvert_exporter": "python",
   "pygments_lexer": "ipython3",
   "version": "3.10.5"
  }
 },
 "nbformat": 4,
 "nbformat_minor": 5
}
