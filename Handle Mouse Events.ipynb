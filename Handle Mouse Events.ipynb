{
 "cells": [
  {
   "cell_type": "code",
   "execution_count": 1,
   "id": "fe205c23",
   "metadata": {},
   "outputs": [],
   "source": [
    "import numpy as np\n",
    "import cv2 as cv\n",
    "import matplotlib.pyplot as plt"
   ]
  },
  {
   "cell_type": "code",
   "execution_count": 2,
   "id": "7d11a957",
   "metadata": {},
   "outputs": [
    {
     "name": "stdout",
     "output_type": "stream",
     "text": [
      "['EVENT_FLAG_ALTKEY', 'EVENT_FLAG_CTRLKEY', 'EVENT_FLAG_LBUTTON', 'EVENT_FLAG_MBUTTON', 'EVENT_FLAG_RBUTTON', 'EVENT_FLAG_SHIFTKEY', 'EVENT_LBUTTONDBLCLK', 'EVENT_LBUTTONDOWN', 'EVENT_LBUTTONUP', 'EVENT_MBUTTONDBLCLK', 'EVENT_MBUTTONDOWN', 'EVENT_MBUTTONUP', 'EVENT_MOUSEHWHEEL', 'EVENT_MOUSEMOVE', 'EVENT_MOUSEWHEEL', 'EVENT_RBUTTONDBLCLK', 'EVENT_RBUTTONDOWN', 'EVENT_RBUTTONUP']\n"
     ]
    }
   ],
   "source": [
    "event = [i for i in dir(cv) if 'EVENT' in i]\n",
    "print(event)"
   ]
  },
  {
   "cell_type": "code",
   "execution_count": 14,
   "id": "f093e3f4",
   "metadata": {},
   "outputs": [],
   "source": [
    "def click_Event(event, x, y, flags,param):\n",
    "    if event == cv.EVENT_LBUTTONDOWN:\n",
    "        print(x,' ,', y)\n",
    "        font = cv.FONT_HERSHEY_SIMPLEX\n",
    "        strXY = str(x) + ' ,' + str(y)\n",
    "        cv.putText(img, strXY, (x, y), font, 1, (255, 0, 255), 2)\n",
    "        plt.imshow(img)\n",
    "        \n",
    "       \n",
    "img = np.zeros((512, 512, 3), np.uint8)  \n",
    "\n",
    "cv.imshow('image',img)\n",
    "cv.setMouseCallback('image', click_Event)"
   ]
  },
  {
   "cell_type": "code",
   "execution_count": null,
   "id": "79733b4e",
   "metadata": {},
   "outputs": [],
   "source": []
  }
 ],
 "metadata": {
  "kernelspec": {
   "display_name": "Python 3 (ipykernel)",
   "language": "python",
   "name": "python3"
  },
  "language_info": {
   "codemirror_mode": {
    "name": "ipython",
    "version": 3
   },
   "file_extension": ".py",
   "mimetype": "text/x-python",
   "name": "python",
   "nbconvert_exporter": "python",
   "pygments_lexer": "ipython3",
   "version": "3.10.5"
  }
 },
 "nbformat": 4,
 "nbformat_minor": 5
}
